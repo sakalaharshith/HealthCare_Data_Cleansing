{
  "cells": [
    {
      "cell_type": "markdown",
      "id": "114a33b4",
      "metadata": {
        "id": "114a33b4"
      },
      "source": [
        "# Data Science Internship at Data Glacier"
      ]
    },
    {
      "cell_type": "markdown",
      "id": "dd570f82",
      "metadata": {
        "id": "dd570f82"
      },
      "source": [
        "## Final Project: Predicting the persistency of a drug (Healthcare) - Part 3"
      ]
    },
    {
      "cell_type": "markdown",
      "id": "fb23422e",
      "metadata": {
        "id": "fb23422e"
      },
      "source": [
        "#### Problem Description\n",
        "\n",
        "One of the challenge for all Pharmaceutical companies is to understand the persistency of drug as per the physician prescription. To solve this problem ABC pharma company approached an analytics company to automate this process of identification.\n",
        "\n",
        "With an objective to gather insights on the factors that are impacting the persistency, a classification\n",
        "model will be built for the given dataset."
      ]
    },
    {
      "cell_type": "markdown",
      "id": "5507912d",
      "metadata": {
        "id": "5507912d"
      },
      "source": [
        "***1. Loading the packages and dataset***"
      ]
    },
    {
      "cell_type": "code",
      "source": [
        "!pip install pandas-profiling"
      ],
      "metadata": {
        "colab": {
          "base_uri": "https://localhost:8080/",
          "height": 1000
        },
        "id": "l-IFCtA0OYIH",
        "outputId": "c3f2f9f1-de3a-4fb5-aba9-e4e3be670509"
      },
      "id": "l-IFCtA0OYIH",
      "execution_count": 96,
      "outputs": [
        {
          "output_type": "stream",
          "name": "stdout",
          "text": [
            "Looking in indexes: https://pypi.org/simple, https://us-python.pkg.dev/colab-wheels/public/simple/\n",
            "Collecting pandas-profiling\n",
            "  Downloading pandas_profiling-3.6.6-py2.py3-none-any.whl (324 kB)\n",
            "\u001b[2K     \u001b[90m━━━━━━━━━━━━━━━━━━━━━━━━━━━━━━━━━━━━━━━\u001b[0m \u001b[32m324.4/324.4 kB\u001b[0m \u001b[31m6.9 MB/s\u001b[0m eta \u001b[36m0:00:00\u001b[0m\n",
            "\u001b[?25hCollecting ydata-profiling (from pandas-profiling)\n",
            "  Downloading ydata_profiling-4.1.2-py2.py3-none-any.whl (345 kB)\n",
            "\u001b[2K     \u001b[90m━━━━━━━━━━━━━━━━━━━━━━━━━━━━━━━━━━━━━━\u001b[0m \u001b[32m345.9/345.9 kB\u001b[0m \u001b[31m32.1 MB/s\u001b[0m eta \u001b[36m0:00:00\u001b[0m\n",
            "\u001b[?25hCollecting scipy<1.10,>=1.4.1 (from ydata-profiling->pandas-profiling)\n",
            "  Downloading scipy-1.9.3-cp310-cp310-manylinux_2_17_x86_64.manylinux2014_x86_64.whl (33.7 MB)\n",
            "\u001b[2K     \u001b[90m━━━━━━━━━━━━━━━━━━━━━━━━━━━━━━━━━━━━━━━━\u001b[0m \u001b[32m33.7/33.7 MB\u001b[0m \u001b[31m31.1 MB/s\u001b[0m eta \u001b[36m0:00:00\u001b[0m\n",
            "\u001b[?25hRequirement already satisfied: pandas!=1.4.0,<1.6,>1.1 in /usr/local/lib/python3.10/dist-packages (from ydata-profiling->pandas-profiling) (1.5.3)\n",
            "Collecting matplotlib<3.7,>=3.2 (from ydata-profiling->pandas-profiling)\n",
            "  Downloading matplotlib-3.6.3-cp310-cp310-manylinux_2_17_x86_64.manylinux2014_x86_64.whl (11.8 MB)\n",
            "\u001b[2K     \u001b[90m━━━━━━━━━━━━━━━━━━━━━━━━━━━━━━━━━━━━━━━━\u001b[0m \u001b[32m11.8/11.8 MB\u001b[0m \u001b[31m81.5 MB/s\u001b[0m eta \u001b[36m0:00:00\u001b[0m\n",
            "\u001b[?25hRequirement already satisfied: pydantic<1.11,>=1.8.1 in /usr/local/lib/python3.10/dist-packages (from ydata-profiling->pandas-profiling) (1.10.7)\n",
            "Requirement already satisfied: PyYAML<6.1,>=5.0.0 in /usr/local/lib/python3.10/dist-packages (from ydata-profiling->pandas-profiling) (6.0)\n",
            "Requirement already satisfied: jinja2<3.2,>=2.11.1 in /usr/local/lib/python3.10/dist-packages (from ydata-profiling->pandas-profiling) (3.1.2)\n",
            "Collecting visions[type_image_path]==0.7.5 (from ydata-profiling->pandas-profiling)\n",
            "  Downloading visions-0.7.5-py3-none-any.whl (102 kB)\n",
            "\u001b[2K     \u001b[90m━━━━━━━━━━━━━━━━━━━━━━━━━━━━━━━━━━━━━━\u001b[0m \u001b[32m102.7/102.7 kB\u001b[0m \u001b[31m11.3 MB/s\u001b[0m eta \u001b[36m0:00:00\u001b[0m\n",
            "\u001b[?25hRequirement already satisfied: numpy<1.24,>=1.16.0 in /usr/local/lib/python3.10/dist-packages (from ydata-profiling->pandas-profiling) (1.22.4)\n",
            "Collecting htmlmin==0.1.12 (from ydata-profiling->pandas-profiling)\n",
            "  Downloading htmlmin-0.1.12.tar.gz (19 kB)\n",
            "  Preparing metadata (setup.py) ... \u001b[?25l\u001b[?25hdone\n",
            "Collecting phik<0.13,>=0.11.1 (from ydata-profiling->pandas-profiling)\n",
            "  Downloading phik-0.12.3-cp310-cp310-manylinux_2_17_x86_64.manylinux2014_x86_64.whl (679 kB)\n",
            "\u001b[2K     \u001b[90m━━━━━━━━━━━━━━━━━━━━━━━━━━━━━━━━━━━━━━\u001b[0m \u001b[32m679.5/679.5 kB\u001b[0m \u001b[31m51.0 MB/s\u001b[0m eta \u001b[36m0:00:00\u001b[0m\n",
            "\u001b[?25hRequirement already satisfied: requests<2.29,>=2.24.0 in /usr/local/lib/python3.10/dist-packages (from ydata-profiling->pandas-profiling) (2.27.1)\n",
            "Collecting tqdm<4.65,>=4.48.2 (from ydata-profiling->pandas-profiling)\n",
            "  Downloading tqdm-4.64.1-py2.py3-none-any.whl (78 kB)\n",
            "\u001b[2K     \u001b[90m━━━━━━━━━━━━━━━━━━━━━━━━━━━━━━━━━━━━━━━━\u001b[0m \u001b[32m78.5/78.5 kB\u001b[0m \u001b[31m7.9 MB/s\u001b[0m eta \u001b[36m0:00:00\u001b[0m\n",
            "\u001b[?25hRequirement already satisfied: seaborn<0.13,>=0.10.1 in /usr/local/lib/python3.10/dist-packages (from ydata-profiling->pandas-profiling) (0.12.2)\n",
            "Collecting multimethod<1.10,>=1.4 (from ydata-profiling->pandas-profiling)\n",
            "  Downloading multimethod-1.9.1-py3-none-any.whl (10 kB)\n",
            "Requirement already satisfied: statsmodels<0.14,>=0.13.2 in /usr/local/lib/python3.10/dist-packages (from ydata-profiling->pandas-profiling) (0.13.5)\n",
            "Collecting typeguard<2.14,>=2.13.2 (from ydata-profiling->pandas-profiling)\n",
            "  Downloading typeguard-2.13.3-py3-none-any.whl (17 kB)\n",
            "Collecting imagehash==4.3.1 (from ydata-profiling->pandas-profiling)\n",
            "  Downloading ImageHash-4.3.1-py2.py3-none-any.whl (296 kB)\n",
            "\u001b[2K     \u001b[90m━━━━━━━━━━━━━━━━━━━━━━━━━━━━━━━━━━━━━━\u001b[0m \u001b[32m296.5/296.5 kB\u001b[0m \u001b[31m29.1 MB/s\u001b[0m eta \u001b[36m0:00:00\u001b[0m\n",
            "\u001b[?25hRequirement already satisfied: PyWavelets in /usr/local/lib/python3.10/dist-packages (from imagehash==4.3.1->ydata-profiling->pandas-profiling) (1.4.1)\n",
            "Requirement already satisfied: pillow in /usr/local/lib/python3.10/dist-packages (from imagehash==4.3.1->ydata-profiling->pandas-profiling) (8.4.0)\n",
            "Requirement already satisfied: attrs>=19.3.0 in /usr/local/lib/python3.10/dist-packages (from visions[type_image_path]==0.7.5->ydata-profiling->pandas-profiling) (23.1.0)\n",
            "Requirement already satisfied: networkx>=2.4 in /usr/local/lib/python3.10/dist-packages (from visions[type_image_path]==0.7.5->ydata-profiling->pandas-profiling) (3.1)\n",
            "Collecting tangled-up-in-unicode>=0.0.4 (from visions[type_image_path]==0.7.5->ydata-profiling->pandas-profiling)\n",
            "  Downloading tangled_up_in_unicode-0.2.0-py3-none-any.whl (4.7 MB)\n",
            "\u001b[2K     \u001b[90m━━━━━━━━━━━━━━━━━━━━━━━━━━━━━━━━━━━━━━━━\u001b[0m \u001b[32m4.7/4.7 MB\u001b[0m \u001b[31m78.6 MB/s\u001b[0m eta \u001b[36m0:00:00\u001b[0m\n",
            "\u001b[?25hRequirement already satisfied: MarkupSafe>=2.0 in /usr/local/lib/python3.10/dist-packages (from jinja2<3.2,>=2.11.1->ydata-profiling->pandas-profiling) (2.1.2)\n",
            "Requirement already satisfied: contourpy>=1.0.1 in /usr/local/lib/python3.10/dist-packages (from matplotlib<3.7,>=3.2->ydata-profiling->pandas-profiling) (1.0.7)\n",
            "Requirement already satisfied: cycler>=0.10 in /usr/local/lib/python3.10/dist-packages (from matplotlib<3.7,>=3.2->ydata-profiling->pandas-profiling) (0.11.0)\n",
            "Requirement already satisfied: fonttools>=4.22.0 in /usr/local/lib/python3.10/dist-packages (from matplotlib<3.7,>=3.2->ydata-profiling->pandas-profiling) (4.39.3)\n",
            "Requirement already satisfied: kiwisolver>=1.0.1 in /usr/local/lib/python3.10/dist-packages (from matplotlib<3.7,>=3.2->ydata-profiling->pandas-profiling) (1.4.4)\n",
            "Requirement already satisfied: packaging>=20.0 in /usr/local/lib/python3.10/dist-packages (from matplotlib<3.7,>=3.2->ydata-profiling->pandas-profiling) (23.1)\n",
            "Requirement already satisfied: pyparsing>=2.2.1 in /usr/local/lib/python3.10/dist-packages (from matplotlib<3.7,>=3.2->ydata-profiling->pandas-profiling) (3.0.9)\n",
            "Requirement already satisfied: python-dateutil>=2.7 in /usr/local/lib/python3.10/dist-packages (from matplotlib<3.7,>=3.2->ydata-profiling->pandas-profiling) (2.8.2)\n",
            "Requirement already satisfied: pytz>=2020.1 in /usr/local/lib/python3.10/dist-packages (from pandas!=1.4.0,<1.6,>1.1->ydata-profiling->pandas-profiling) (2022.7.1)\n",
            "Requirement already satisfied: joblib>=0.14.1 in /usr/local/lib/python3.10/dist-packages (from phik<0.13,>=0.11.1->ydata-profiling->pandas-profiling) (1.2.0)\n",
            "Requirement already satisfied: typing-extensions>=4.2.0 in /usr/local/lib/python3.10/dist-packages (from pydantic<1.11,>=1.8.1->ydata-profiling->pandas-profiling) (4.5.0)\n",
            "Requirement already satisfied: urllib3<1.27,>=1.21.1 in /usr/local/lib/python3.10/dist-packages (from requests<2.29,>=2.24.0->ydata-profiling->pandas-profiling) (1.26.15)\n",
            "Requirement already satisfied: certifi>=2017.4.17 in /usr/local/lib/python3.10/dist-packages (from requests<2.29,>=2.24.0->ydata-profiling->pandas-profiling) (2022.12.7)\n",
            "Requirement already satisfied: charset-normalizer~=2.0.0 in /usr/local/lib/python3.10/dist-packages (from requests<2.29,>=2.24.0->ydata-profiling->pandas-profiling) (2.0.12)\n",
            "Requirement already satisfied: idna<4,>=2.5 in /usr/local/lib/python3.10/dist-packages (from requests<2.29,>=2.24.0->ydata-profiling->pandas-profiling) (3.4)\n",
            "Requirement already satisfied: patsy>=0.5.2 in /usr/local/lib/python3.10/dist-packages (from statsmodels<0.14,>=0.13.2->ydata-profiling->pandas-profiling) (0.5.3)\n",
            "Requirement already satisfied: six in /usr/local/lib/python3.10/dist-packages (from patsy>=0.5.2->statsmodels<0.14,>=0.13.2->ydata-profiling->pandas-profiling) (1.16.0)\n",
            "Building wheels for collected packages: htmlmin\n",
            "  Building wheel for htmlmin (setup.py) ... \u001b[?25l\u001b[?25hdone\n",
            "  Created wheel for htmlmin: filename=htmlmin-0.1.12-py3-none-any.whl size=27096 sha256=15e67197b0405be8e09502b3931122f105dcc42e7f0e1815a99c884ed2e6cda2\n",
            "  Stored in directory: /root/.cache/pip/wheels/dd/91/29/a79cecb328d01739e64017b6fb9a1ab9d8cb1853098ec5966d\n",
            "Successfully built htmlmin\n",
            "Installing collected packages: htmlmin, typeguard, tqdm, tangled-up-in-unicode, scipy, multimethod, matplotlib, imagehash, visions, phik, ydata-profiling, pandas-profiling\n",
            "  Attempting uninstall: tqdm\n",
            "    Found existing installation: tqdm 4.65.0\n",
            "    Uninstalling tqdm-4.65.0:\n",
            "      Successfully uninstalled tqdm-4.65.0\n",
            "  Attempting uninstall: scipy\n",
            "    Found existing installation: scipy 1.10.1\n",
            "    Uninstalling scipy-1.10.1:\n",
            "      Successfully uninstalled scipy-1.10.1\n",
            "  Attempting uninstall: matplotlib\n",
            "    Found existing installation: matplotlib 3.7.1\n",
            "    Uninstalling matplotlib-3.7.1:\n",
            "      Successfully uninstalled matplotlib-3.7.1\n",
            "Successfully installed htmlmin-0.1.12 imagehash-4.3.1 matplotlib-3.6.3 multimethod-1.9.1 pandas-profiling-3.6.6 phik-0.12.3 scipy-1.9.3 tangled-up-in-unicode-0.2.0 tqdm-4.64.1 typeguard-2.13.3 visions-0.7.5 ydata-profiling-4.1.2\n"
          ]
        },
        {
          "output_type": "display_data",
          "data": {
            "application/vnd.colab-display-data+json": {
              "pip_warning": {
                "packages": [
                  "matplotlib",
                  "mpl_toolkits"
                ]
              }
            }
          },
          "metadata": {}
        }
      ]
    },
    {
      "cell_type": "code",
      "execution_count": 98,
      "id": "cc772253",
      "metadata": {
        "colab": {
          "base_uri": "https://localhost:8080/"
        },
        "id": "cc772253",
        "outputId": "1c4b186d-373c-42f7-ddee-2206d6479148"
      },
      "outputs": [
        {
          "output_type": "stream",
          "name": "stderr",
          "text": [
            "<ipython-input-98-6205ba6ece41>:5: DeprecationWarning: `import pandas_profiling` is going to be deprecated by April 1st. Please use `import ydata_profiling` instead.\n",
            "  import pandas_profiling\n"
          ]
        }
      ],
      "source": [
        "# Loading package\n",
        "import pandas as pd\n",
        "import numpy as np\n",
        "import seaborn as sns\n",
        "import pandas_profiling\n",
        "from sklearn.preprocessing import LabelEncoder"
      ]
    },
    {
      "cell_type": "code",
      "execution_count": 99,
      "id": "cd1b4084",
      "metadata": {
        "id": "cd1b4084"
      },
      "outputs": [],
      "source": [
        "# Loading the dataset\n",
        "main_dataset = pd.read_excel(\"Healthcare_dataset.xlsx\", sheet_name=\"Dataset\")"
      ]
    },
    {
      "cell_type": "markdown",
      "id": "08c15a48",
      "metadata": {
        "id": "08c15a48"
      },
      "source": [
        "***2. Creating an statistical summary***"
      ]
    },
    {
      "cell_type": "code",
      "execution_count": 106,
      "id": "5f26b0e1",
      "metadata": {
        "colab": {
          "base_uri": "https://localhost:8080/"
        },
        "id": "5f26b0e1",
        "outputId": "5639cd3d-fb3d-42d7-dda1-6d26f34ebe84"
      },
      "outputs": [
        {
          "output_type": "stream",
          "name": "stdout",
          "text": [
            "This actually is an indicator of Duplicated rows if present it is going to return true or else false: False\n"
          ]
        }
      ],
      "source": [
        "# Profile Report\n",
        "pandas_profiling.ProfileReport(main_dataset)\n",
        "# There are no null and duplicate values present in the data\n",
        "list_duplicated_values_boolean=main_dataset.duplicated()\n",
        "print(\"This actually is an indicator of Duplicated rows if present it is going to return true or else false:\",True in list_duplicated_values_boolean)"
      ]
    },
    {
      "cell_type": "markdown",
      "id": "d80b6f94",
      "metadata": {
        "id": "d80b6f94"
      },
      "source": [
        "As mentioned in a previous report, the dataset does not contain NA values and duplicated registers. However, a few outliers were observed in both numerical variables. Let's first plot a boxplot, considering the target classes separately. After that, as all outliers were high values, the upper limit threshold was calculated based on the rule 1.5 times the interquartile range (IQR). Any value above this treshold was considered outlier as presented in the boxplots. The outlier values were replaced by these upper limit thresholds."
      ]
    },
    {
      "cell_type": "markdown",
      "id": "4b2fad84",
      "metadata": {
        "id": "4b2fad84"
      },
      "source": [
        "***3. Treating outliers***"
      ]
    },
    {
      "cell_type": "markdown",
      "id": "ad5270f9",
      "metadata": {
        "id": "ad5270f9"
      },
      "source": [
        "* Dexa_Freq_During_Rx"
      ]
    },
    {
      "cell_type": "code",
      "execution_count": 44,
      "id": "c7076f02",
      "metadata": {
        "colab": {
          "base_uri": "https://localhost:8080/",
          "height": 539
        },
        "id": "c7076f02",
        "outputId": "60ba6141-b775-4467-a011-df16a452409c"
      },
      "outputs": [
        {
          "output_type": "stream",
          "name": "stdout",
          "text": [
            "0.0 3.0\n",
            "The inter quartile range of the dexa_freq_During_Rx entire data regardless of output label is :3.0\n",
            "The lower bound of the dexa_freq_During_Rx entire data regardless of output label is :-4.5 The uppper bound of the dexa_freq_During_Rx data is :7.5\n"
          ]
        },
        {
          "output_type": "execute_result",
          "data": {
            "text/plain": [
              "<Axes: xlabel='Dexa_Freq_During_Rx'>"
            ]
          },
          "metadata": {},
          "execution_count": 44
        },
        {
          "output_type": "display_data",
          "data": {
            "text/plain": [
              "<Figure size 640x480 with 1 Axes>"
            ],
            "image/png": "[encoded data removed]"
          },
          "metadata": {}
        }
      ],
      "source": [
        "# Ploting the boxplot for Dexa_Freq_During_Rx\n",
        "q1,q2=np.percentile(main_dataset['Dexa_Freq_During_Rx'],[25,75])\n",
        "print(q1,q2)\n",
        "IQR=q2-q1\n",
        "print(\"The inter quartile range of the dexa_freq_During_Rx entire data regardless of output label is :{inter}\".format(inter=IQR))\n",
        "lower_bound=q1-(1.5*IQR)\n",
        "upper_bound=q2+(1.5*IQR)\n",
        "print(\"The lower bound of the dexa_freq_During_Rx entire data regardless of output label is :{lower}\".format(lower=lower_bound),\"The uppper bound of the dexa_freq_During_Rx data is :{upper}\".format(upper=upper_bound))\n",
        "sns.boxplot(x=main_dataset['Dexa_Freq_During_Rx'])"
      ]
    },
    {
      "cell_type": "code",
      "source": [
        "#Plot the Dexa freq values where persistencyflag==Persistent\n",
        "number_of_persistent_values_in_Dexa=main_dataset[main_dataset['Persistency_Flag']=='Persistent']\n",
        "q1,median,q2= np.percentile(number_of_persistent_values_in_Dexa['Dexa_Freq_During_Rx'],[25,50,75])\n",
        "\n",
        "IQR_Persistent=q2-q1\n",
        "print(\"The Inter Quartile Range of  dexa frequency values for persistency is {Pers}\".format(Pers=IQR))\n",
        "lower_bound_pers=q1-(1.5*IQR_Persistent)\n",
        "upper_bound_pers=q2+(1.5*IQR_Persistent)\n",
        "print(\"The lower bound of the dexa_freq_During_Rx entire data regardless of output label is :{lower}\".format(lower=lower_bound_pers))\n",
        "print(\"The upper bound of the dexa_freq_During_Rx data is :{upper}\".format(upper=upper_bound_pers))\n",
        "sns.boxplot(x=number_of_persistent_values_in_Dexa['Dexa_Freq_During_Rx'])\n"
      ],
      "metadata": {
        "colab": {
          "base_uri": "https://localhost:8080/",
          "height": 519
        },
        "id": "JSgypRb40vzd",
        "outputId": "4ac3c1c7-f36b-4d5c-efc9-9407e086e082"
      },
      "id": "JSgypRb40vzd",
      "execution_count": 78,
      "outputs": [
        {
          "output_type": "stream",
          "name": "stdout",
          "text": [
            "The Inter Quartile Range of  dexa frequency values for persistency is 3.0\n",
            "The lower bound of the dexa_freq_During_Rx entire data regardless of output label is :-13.5\n",
            "The upper bound of the dexa_freq_During_Rx data is :22.5\n"
          ]
        },
        {
          "output_type": "execute_result",
          "data": {
            "text/plain": [
              "<Axes: xlabel='Dexa_Freq_During_Rx'>"
            ]
          },
          "metadata": {},
          "execution_count": 78
        },
        {
          "output_type": "display_data",
          "data": {
            "text/plain": [
              "<Figure size 640x480 with 1 Axes>"
            ],
            "image/png": "[encoded data removed]"
          },
          "metadata": {}
        }
      ]
    },
    {
      "cell_type": "code",
      "source": [
        "#Plot the Dexa freq values where persistencyflag==Non-Persistent\n",
        "\n",
        "number_of_non_persistent_values_in_Dexa=main_dataset[main_dataset['Persistency_Flag']=='Non-Persistent']\n",
        "q1,q2= np.percentile(number_of_non_persistent_values_in_Dexa['Dexa_Freq_During_Rx'],[25,75])\n",
        "IQR_Non_Persistent=q2-q1\n",
        "print(\"The Inter Quartile Range of  dexa frequency values for persistency is {Pers}\".format(Pers=IQR))\n",
        "lower_bound_Non_pers=q1-(1.5*IQR_Non_Persistent)\n",
        "upper_bound_Non_pers=q2+(1.5*IQR_Non_Persistent)\n",
        "print(\"The lower bound of the dexa_freq_During_Rx entire data regardless of output label is :{lower}\".format(lower=lower_bound_Non_pers))\n",
        "print(\"The upper bound of the dexa_freq_During_Rx data is :{upper}\".format(upper=upper_bound_Non_pers))\n",
        "sns.boxplot(x=number_of_non_persistent_values_in_Dexa['Dexa_Freq_During_Rx'])\n",
        "\n",
        "# Since it is clear that there are outliers present in both values and there is variance observed between the distribution of these two value distributions.\n",
        "# The outlier values for both Persistent and Non_persistent will be replace by taking the median values of respected distributions and also the median value for Non_persistent data is 0.\n"
      ],
      "metadata": {
        "colab": {
          "base_uri": "https://localhost:8080/",
          "height": 519
        },
        "id": "EhTYj0Oh20Kz",
        "outputId": "b3c35712-0d6d-4ccc-dd87-8c71145db56d"
      },
      "id": "EhTYj0Oh20Kz",
      "execution_count": 79,
      "outputs": [
        {
          "output_type": "stream",
          "name": "stdout",
          "text": [
            "The Inter Quartile Range of  dexa frequency values for persistency is 3.0\n",
            "The lower bound of the dexa_freq_During_Rx entire data regardless of output label is :0.0\n",
            "The upper bound of the dexa_freq_During_Rx data is :0.0\n"
          ]
        },
        {
          "output_type": "execute_result",
          "data": {
            "text/plain": [
              "<Axes: xlabel='Dexa_Freq_During_Rx'>"
            ]
          },
          "metadata": {},
          "execution_count": 79
        },
        {
          "output_type": "display_data",
          "data": {
            "text/plain": [
              "<Figure size 640x480 with 1 Axes>"
            ],
            "image/png": "[encoded data removed]"
          },
          "metadata": {}
        }
      ]
    },
    {
      "cell_type": "code",
      "source": [
        "# Dealing with outliers by replacing the outlier values by median of both persistent and non persistent dexa freq values\n",
        "persistent_data=main_dataset[main_dataset['Persistency_Flag']=='Persistent']\n",
        "median_value=persistent_data['Dexa_Freq_During_Rx'].median()\n",
        "main_dataset['Dexa_Freq_During_Rx'] = np.where((main_dataset['Persistency_Flag'] == 'Persistent') & (main_dataset['Dexa_Freq_During_Rx']>22.5),median_value , main_dataset['Dexa_Freq_During_Rx'])\n",
        "main_dataset['Dexa_Freq_During_Rx'] = np.where((main_dataset['Persistency_Flag'] == 'Non-Persistent') & (main_dataset['Dexa_Freq_During_Rx']>0),0 , main_dataset['Dexa_Freq_During_Rx'])\n",
        "print(\"The minimum value of Dexa_Freq_During_Rx is {min}\".format(min=main_dataset['Dexa_Freq_During_Rx'].min()))\n",
        "print(\"The maximum value of Dexa_Freq_During_Rx is {max}\".format(max=main_dataset['Dexa_Freq_During_Rx'].max()))\n",
        "persistent1_data=main_dataset[main_dataset['Persistency_Flag']=='Persistent']\n",
        "non_persistent_data=main_dataset[main_dataset['Persistency_Flag']=='Non-Persistent']\n",
        "print(non_persistent_data[['Dexa_Freq_During_Rx','Persistency_Flag']].max())\n",
        "#Dexa freq values for persistent\n",
        "sns.boxplot(x=persistent1_data['Dexa_Freq_During_Rx'])\n",
        "\n",
        "\n",
        "\n"
      ],
      "metadata": {
        "colab": {
          "base_uri": "https://localhost:8080/",
          "height": 554
        },
        "id": "YHSYD1Cs5jIy",
        "outputId": "81463811-9d92-4631-9cee-38c8827708d6"
      },
      "id": "YHSYD1Cs5jIy",
      "execution_count": 80,
      "outputs": [
        {
          "output_type": "stream",
          "name": "stdout",
          "text": [
            "The minimum value of Dexa_Freq_During_Rx is 0.0\n",
            "The maximum value of Dexa_Freq_During_Rx is 22.0\n",
            "Dexa_Freq_During_Rx               0.0\n",
            "Persistency_Flag       Non-Persistent\n",
            "dtype: object\n"
          ]
        },
        {
          "output_type": "execute_result",
          "data": {
            "text/plain": [
              "<Axes: xlabel='Dexa_Freq_During_Rx'>"
            ]
          },
          "metadata": {},
          "execution_count": 80
        },
        {
          "output_type": "display_data",
          "data": {
            "text/plain": [
              "<Figure size 640x480 with 1 Axes>"
            ],
            "image/png": "[encoded data removed]"
          },
          "metadata": {}
        }
      ]
    },
    {
      "cell_type": "code",
      "source": [
        "#Dexa freq values for non-persistent\n",
        "sns.boxplot(x=non_persistent_data['Dexa_Freq_During_Rx'])\n"
      ],
      "metadata": {
        "colab": {
          "base_uri": "https://localhost:8080/",
          "height": 467
        },
        "id": "Xebx8o4o7GYi",
        "outputId": "1bd7e600-5ad0-4d64-f999-69262edd1487"
      },
      "id": "Xebx8o4o7GYi",
      "execution_count": 81,
      "outputs": [
        {
          "output_type": "execute_result",
          "data": {
            "text/plain": [
              "<Axes: xlabel='Dexa_Freq_During_Rx'>"
            ]
          },
          "metadata": {},
          "execution_count": 81
        },
        {
          "output_type": "display_data",
          "data": {
            "text/plain": [
              "<Figure size 640x480 with 1 Axes>"
            ],
            "image/png": "[encoded data removed]"
          },
          "metadata": {}
        }
      ]
    },
    {
      "cell_type": "markdown",
      "source": [
        "\n",
        "\n",
        "\n",
        "*   Count_Of_Risks\n",
        "\n",
        "\n",
        "\n",
        "\n"
      ],
      "metadata": {
        "id": "Maiqy3WrQPpI"
      },
      "id": "Maiqy3WrQPpI"
    },
    {
      "cell_type": "code",
      "source": [
        "#Plot count of risks for persistent values\n",
        "number_of_persistent_values_in_count_of_risks=main_dataset[main_dataset['Persistency_Flag']=='Persistent']\n",
        "q1,median,q2= np.percentile(number_of_persistent_values_in_Dexa['Count_Of_Risks'],[25,50,75])\n",
        "\n",
        "IQR_Persistent=q2-q1\n",
        "print(\"The Inter Quartile Range of  count of risks for persistency is {Pers}\".format(Pers=IQR))\n",
        "lower_bound_pers=q1-(1.5*IQR_Persistent)\n",
        "upper_bound_pers=q2+(1.5*IQR_Persistent)\n",
        "print(\"The lower bound of the count of risks is :{lower}\".format(lower=lower_bound_pers))\n",
        "print(\"The upper bound of the count of risks data is :{upper}\".format(upper=upper_bound_pers))\n",
        "sns.boxplot(x=number_of_persistent_values_in_Dexa['Count_Of_Risks'])"
      ],
      "metadata": {
        "colab": {
          "base_uri": "https://localhost:8080/",
          "height": 519
        },
        "id": "cBnJg3yRE-ea",
        "outputId": "4b7d4ce5-40a0-43b3-fb63-54e5220dd317"
      },
      "id": "cBnJg3yRE-ea",
      "execution_count": 82,
      "outputs": [
        {
          "output_type": "stream",
          "name": "stdout",
          "text": [
            "The Inter Quartile Range of  count of risks for persistency is 3.0\n",
            "The lower bound of the count of risks is :-0.5\n",
            "The upper bound of the count of risks data is :3.5\n"
          ]
        },
        {
          "output_type": "execute_result",
          "data": {
            "text/plain": [
              "<Axes: xlabel='Count_Of_Risks'>"
            ]
          },
          "metadata": {},
          "execution_count": 82
        },
        {
          "output_type": "display_data",
          "data": {
            "text/plain": [
              "<Figure size 640x480 with 1 Axes>"
            ],
            "image/png": "[encoded data removed]"
          },
          "metadata": {}
        }
      ]
    },
    {
      "cell_type": "code",
      "source": [
        "#Plot count of risks for non-persistent values\n",
        "number_of_non_persistent_values_in_count_of_risks=main_dataset[main_dataset['Persistency_Flag']=='Non-Persistent']\n",
        "q1,q2= np.percentile(number_of_non_persistent_values_in_count_of_risks['Count_Of_Risks'],[25,75])\n",
        "IQR_Non_Persistent=q2-q1\n",
        "print(\"The Inter Quartile Range of  count of risks values for persistency is {Pers}\".format(Pers=IQR))\n",
        "lower_bound_Non_pers=q1-(1.5*IQR_Non_Persistent)\n",
        "upper_bound_Non_pers=q2+(1.5*IQR_Non_Persistent)\n",
        "print(\"The lower bound of the count of risksis :{lower}\".format(lower=lower_bound_Non_pers))\n",
        "print(\"The upper bound of the count of risks data is :{upper}\".format(upper=upper_bound_Non_pers))\n",
        "sns.boxplot(x=number_of_non_persistent_values_in_Dexa['Count_Of_Risks'])\n"
      ],
      "metadata": {
        "colab": {
          "base_uri": "https://localhost:8080/",
          "height": 519
        },
        "id": "AHKSKaR8JMiA",
        "outputId": "562fbd7a-9dd1-4a62-e0c5-2efd7c20433f"
      },
      "id": "AHKSKaR8JMiA",
      "execution_count": 83,
      "outputs": [
        {
          "output_type": "stream",
          "name": "stdout",
          "text": [
            "The Inter Quartile Range of  count of risks values for persistency is 3.0\n",
            "The lower bound of the count of risksis :-3.0\n",
            "The upper bound of the count of risks data is :5.0\n"
          ]
        },
        {
          "output_type": "execute_result",
          "data": {
            "text/plain": [
              "<Axes: xlabel='Count_Of_Risks'>"
            ]
          },
          "metadata": {},
          "execution_count": 83
        },
        {
          "output_type": "display_data",
          "data": {
            "text/plain": [
              "<Figure size 640x480 with 1 Axes>"
            ],
            "image/png": "[encoded data removed]"
          },
          "metadata": {}
        }
      ]
    },
    {
      "cell_type": "code",
      "source": [
        "# Similar to previous feature, replacing all outliers with median values of both persistent values\n",
        "persistent_data=main_dataset[main_dataset['Persistency_Flag']=='Persistent']\n",
        "median_value=persistent_data['Count_Of_Risks'].median()\n",
        "persistent_data=main_dataset[main_dataset['Persistency_Flag']=='Non-Persistent']\n",
        "non_persistency_median_value=persistent_data['Count_Of_Risks'].median()\n",
        "main_dataset['Count_Of_Risks'] = np.where((main_dataset['Persistency_Flag'] == 'Persistent') & (main_dataset['Count_Of_Risks']>3.5),median_value , main_dataset['Count_Of_Risks'])\n",
        "main_dataset['Count_Of_Risks'] = np.where((main_dataset['Persistency_Flag'] == 'Non-Persistent') & (main_dataset['Count_Of_Risks']>5),non_persistency_median_value, main_dataset['Count_Of_Risks'])\n",
        "print(\"The minimum value of Count_Of_Risks is {min}\".format(min=main_dataset['Dexa_Freq_During_Rx'].min()))\n",
        "print(\"The maximum value of Count_Of_Risks is {max}\".format(max=main_dataset['Dexa_Freq_During_Rx'].max()))\n",
        "persistent1_data=main_dataset[main_dataset['Persistency_Flag']=='Persistent']\n",
        "non_persistent_data=main_dataset[main_dataset['Persistency_Flag']=='Non-Persistent']\n",
        "print(non_persistent_data[['Count_Of_Risks','Persistency_Flag']].max())\n",
        "sns.boxplot(x=persistent1_data['Count_Of_Risks'])\n",
        "\n",
        "\n"
      ],
      "metadata": {
        "colab": {
          "base_uri": "https://localhost:8080/",
          "height": 554
        },
        "id": "NNpvr1yiJqsF",
        "outputId": "d7a17a83-4c8a-4b47-8880-373de4b2625c"
      },
      "id": "NNpvr1yiJqsF",
      "execution_count": 84,
      "outputs": [
        {
          "output_type": "stream",
          "name": "stdout",
          "text": [
            "The minimum value of Count_Of_Risks is 0.0\n",
            "The maximum value of Count_Of_Risks is 22.0\n",
            "Count_Of_Risks                 5.0\n",
            "Persistency_Flag    Non-Persistent\n",
            "dtype: object\n"
          ]
        },
        {
          "output_type": "execute_result",
          "data": {
            "text/plain": [
              "<Axes: xlabel='Count_Of_Risks'>"
            ]
          },
          "metadata": {},
          "execution_count": 84
        },
        {
          "output_type": "display_data",
          "data": {
            "text/plain": [
              "<Figure size 640x480 with 1 Axes>"
            ],
            "image/png": "[encoded data removed]"
          },
          "metadata": {}
        }
      ]
    },
    {
      "cell_type": "code",
      "source": [
        "#Boxplot of Count of Risks for Non-persistent values\n",
        "sns.boxplot(x=non_persistent_data['Count_Of_Risks'])"
      ],
      "metadata": {
        "colab": {
          "base_uri": "https://localhost:8080/",
          "height": 467
        },
        "id": "6xf5P-jxKtbx",
        "outputId": "bf6ad1ec-60b2-42d5-876d-8aa39853fe12"
      },
      "id": "6xf5P-jxKtbx",
      "execution_count": 85,
      "outputs": [
        {
          "output_type": "execute_result",
          "data": {
            "text/plain": [
              "<Axes: xlabel='Count_Of_Risks'>"
            ]
          },
          "metadata": {},
          "execution_count": 85
        },
        {
          "output_type": "display_data",
          "data": {
            "text/plain": [
              "<Figure size 640x480 with 1 Axes>"
            ],
            "image/png": "[encoded data removed]"
          },
          "metadata": {}
        }
      ]
    },
    {
      "cell_type": "markdown",
      "id": "d122c253",
      "metadata": {
        "id": "d122c253"
      },
      "source": [
        "Both numerical variables do not present outliers. One more transformation that is necessary before proceeding with the exploratory analysis and modeling steps is related to encoding the categorical variables. Let's perform that using the function LabelEncoder from the sklearn.preprocessing."
      ]
    },
    {
      "cell_type": "markdown",
      "id": "f56f6a0a",
      "metadata": {
        "id": "f56f6a0a"
      },
      "source": [
        "***4. Encoding categorical variables***"
      ]
    },
    {
      "cell_type": "code",
      "execution_count": 101,
      "id": "a6f0655a",
      "metadata": {
        "colab": {
          "base_uri": "https://localhost:8080/"
        },
        "id": "a6f0655a",
        "outputId": "6b56ddb3-754d-4f52-cdb3-30e6ddcbc35e"
      },
      "outputs": [
        {
          "output_type": "stream",
          "name": "stdout",
          "text": [
            "   Dexa_Freq_During_Rx  Count_Of_Risks\n",
            "0                    0               0\n",
            "1                    0               0\n",
            "2                    0               2\n",
            "3                    0               1\n",
            "4                    0               1\n",
            "5                    0               2\n",
            "6                    2               1\n",
            "7                    0               1\n",
            "8                    0               1\n",
            "9                    0               1\n",
            "Index(['Ptid', 'Persistency_Flag', 'Gender', 'Race', 'Ethnicity', 'Region',\n",
            "       'Age_Bucket', 'Ntm_Speciality', 'Ntm_Specialist_Flag',\n",
            "       'Ntm_Speciality_Bucket', 'Gluco_Record_Prior_Ntm',\n",
            "       'Gluco_Record_During_Rx', 'Dexa_During_Rx', 'Frag_Frac_Prior_Ntm',\n",
            "       'Frag_Frac_During_Rx', 'Risk_Segment_Prior_Ntm',\n",
            "       'Tscore_Bucket_Prior_Ntm', 'Risk_Segment_During_Rx',\n",
            "       'Tscore_Bucket_During_Rx', 'Change_T_Score', 'Change_Risk_Segment',\n",
            "       'Adherent_Flag', 'Idn_Indicator', 'Injectable_Experience_During_Rx',\n",
            "       'Comorb_Encounter_For_Screening_For_Malignant_Neoplasms',\n",
            "       'Comorb_Encounter_For_Immunization',\n",
            "       'Comorb_Encntr_For_General_Exam_W_O_Complaint,_Susp_Or_Reprtd_Dx',\n",
            "       'Comorb_Vitamin_D_Deficiency',\n",
            "       'Comorb_Other_Joint_Disorder_Not_Elsewhere_Classified',\n",
            "       'Comorb_Encntr_For_Oth_Sp_Exam_W_O_Complaint_Suspected_Or_Reprtd_Dx',\n",
            "       'Comorb_Long_Term_Current_Drug_Therapy', 'Comorb_Dorsalgia',\n",
            "       'Comorb_Personal_History_Of_Other_Diseases_And_Conditions',\n",
            "       'Comorb_Other_Disorders_Of_Bone_Density_And_Structure',\n",
            "       'Comorb_Disorders_of_lipoprotein_metabolism_and_other_lipidemias',\n",
            "       'Comorb_Osteoporosis_without_current_pathological_fracture',\n",
            "       'Comorb_Personal_history_of_malignant_neoplasm',\n",
            "       'Comorb_Gastro_esophageal_reflux_disease',\n",
            "       'Concom_Cholesterol_And_Triglyceride_Regulating_Preparations',\n",
            "       'Concom_Narcotics', 'Concom_Systemic_Corticosteroids_Plain',\n",
            "       'Concom_Anti_Depressants_And_Mood_Stabilisers',\n",
            "       'Concom_Fluoroquinolones', 'Concom_Cephalosporins',\n",
            "       'Concom_Macrolides_And_Similar_Types',\n",
            "       'Concom_Broad_Spectrum_Penicillins', 'Concom_Anaesthetics_General',\n",
            "       'Concom_Viral_Vaccines', 'Risk_Type_1_Insulin_Dependent_Diabetes',\n",
            "       'Risk_Osteogenesis_Imperfecta', 'Risk_Rheumatoid_Arthritis',\n",
            "       'Risk_Untreated_Chronic_Hyperthyroidism',\n",
            "       'Risk_Untreated_Chronic_Hypogonadism', 'Risk_Untreated_Early_Menopause',\n",
            "       'Risk_Patient_Parent_Fractured_Their_Hip', 'Risk_Smoking_Tobacco',\n",
            "       'Risk_Chronic_Malnutrition_Or_Malabsorption',\n",
            "       'Risk_Chronic_Liver_Disease', 'Risk_Family_History_Of_Osteoporosis',\n",
            "       'Risk_Low_Calcium_Intake', 'Risk_Vitamin_D_Insufficiency',\n",
            "       'Risk_Poor_Health_Frailty', 'Risk_Excessive_Thinness',\n",
            "       'Risk_Hysterectomy_Oophorectomy', 'Risk_Estrogen_Deficiency',\n",
            "       'Risk_Immobilization', 'Risk_Recurring_Falls'],\n",
            "      dtype='object')\n"
          ]
        }
      ],
      "source": [
        "numerical_data_frame=main_dataset[['Dexa_Freq_During_Rx','Count_Of_Risks']]\n",
        "print(numerical_data_frame.head(10))\n",
        "main_dataset.drop(['Dexa_Freq_During_Rx','Count_Of_Risks'],axis=1,inplace=True)\n",
        "print(main_dataset.columns)\n"
      ]
    },
    {
      "cell_type": "code",
      "source": [
        "main_dataset=main_dataset.apply(LabelEncoder().fit_transform)"
      ],
      "metadata": {
        "id": "DvVkW-IENOXR"
      },
      "id": "DvVkW-IENOXR",
      "execution_count": 102,
      "outputs": []
    },
    {
      "cell_type": "markdown",
      "id": "f942a89c",
      "metadata": {
        "id": "f942a89c"
      },
      "source": [
        "***5. Creating the transformed dataset and visualizing it***"
      ]
    },
    {
      "cell_type": "code",
      "execution_count": 103,
      "id": "95b371da",
      "metadata": {
        "colab": {
          "base_uri": "https://localhost:8080/",
          "height": 299
        },
        "id": "95b371da",
        "outputId": "e776350d-9dcc-4ded-9ab2-3b0155a75164"
      },
      "outputs": [
        {
          "output_type": "execute_result",
          "data": {
            "text/plain": [
              "   Ptid  Persistency_Flag  Gender  Race  Ethnicity  Region  Age_Bucket  \\\n",
              "0     0                 1       1     2          1       4           3   \n",
              "1  1111                 0       1     1          1       4           0   \n",
              "2  2222                 0       0     3          0       0           1   \n",
              "3  2758                 0       0     2          1       0           3   \n",
              "4  2869                 0       0     2          1       0           3   \n",
              "\n",
              "   Ntm_Speciality  Ntm_Specialist_Flag  Ntm_Speciality_Bucket  ...  \\\n",
              "0               5                    0                      1  ...   \n",
              "1               5                    0                      1  ...   \n",
              "2               5                    0                      1  ...   \n",
              "3               5                    0                      1  ...   \n",
              "4               5                    0                      1  ...   \n",
              "\n",
              "   Risk_Low_Calcium_Intake  Risk_Vitamin_D_Insufficiency  \\\n",
              "0                        0                             0   \n",
              "1                        0                             0   \n",
              "2                        1                             0   \n",
              "3                        0                             0   \n",
              "4                        0                             0   \n",
              "\n",
              "   Risk_Poor_Health_Frailty  Risk_Excessive_Thinness  \\\n",
              "0                         0                        0   \n",
              "1                         0                        0   \n",
              "2                         0                        0   \n",
              "3                         0                        0   \n",
              "4                         0                        0   \n",
              "\n",
              "   Risk_Hysterectomy_Oophorectomy  Risk_Estrogen_Deficiency  \\\n",
              "0                               0                         0   \n",
              "1                               0                         0   \n",
              "2                               0                         0   \n",
              "3                               0                         0   \n",
              "4                               0                         0   \n",
              "\n",
              "   Risk_Immobilization  Risk_Recurring_Falls  Dexa_Freq_During_Rx  \\\n",
              "0                    0                     0                    0   \n",
              "1                    0                     0                    0   \n",
              "2                    0                     0                    0   \n",
              "3                    0                     0                    0   \n",
              "4                    0                     0                    0   \n",
              "\n",
              "   Count_Of_Risks  \n",
              "0               0  \n",
              "1               0  \n",
              "2               2  \n",
              "3               1  \n",
              "4               1  \n",
              "\n",
              "[5 rows x 69 columns]"
            ],
            "text/html": [
              "\n",
              "  <div id=\"df-83980e80-28c6-4279-b942-a752364d6297\">\n",
              "    <div class=\"colab-df-container\">\n",
              "      <div>\n",
              "<style scoped>\n",
              "    .dataframe tbody tr th:only-of-type {\n",
              "        vertical-align: middle;\n",
              "    }\n",
              "\n",
              "    .dataframe tbody tr th {\n",
              "        vertical-align: top;\n",
              "    }\n",
              "\n",
              "    .dataframe thead th {\n",
              "        text-align: right;\n",
              "    }\n",
              "</style>\n",
              "<table border=\"1\" class=\"dataframe\">\n",
              "  <thead>\n",
              "    <tr style=\"text-align: right;\">\n",
              "      <th></th>\n",
              "      <th>Ptid</th>\n",
              "      <th>Persistency_Flag</th>\n",
              "      <th>Gender</th>\n",
              "      <th>Race</th>\n",
              "      <th>Ethnicity</th>\n",
              "      <th>Region</th>\n",
              "      <th>Age_Bucket</th>\n",
              "      <th>Ntm_Speciality</th>\n",
              "      <th>Ntm_Specialist_Flag</th>\n",
              "      <th>Ntm_Speciality_Bucket</th>\n",
              "      <th>...</th>\n",
              "      <th>Risk_Low_Calcium_Intake</th>\n",
              "      <th>Risk_Vitamin_D_Insufficiency</th>\n",
              "      <th>Risk_Poor_Health_Frailty</th>\n",
              "      <th>Risk_Excessive_Thinness</th>\n",
              "      <th>Risk_Hysterectomy_Oophorectomy</th>\n",
              "      <th>Risk_Estrogen_Deficiency</th>\n",
              "      <th>Risk_Immobilization</th>\n",
              "      <th>Risk_Recurring_Falls</th>\n",
              "      <th>Dexa_Freq_During_Rx</th>\n",
              "      <th>Count_Of_Risks</th>\n",
              "    </tr>\n",
              "  </thead>\n",
              "  <tbody>\n",
              "    <tr>\n",
              "      <th>0</th>\n",
              "      <td>0</td>\n",
              "      <td>1</td>\n",
              "      <td>1</td>\n",
              "      <td>2</td>\n",
              "      <td>1</td>\n",
              "      <td>4</td>\n",
              "      <td>3</td>\n",
              "      <td>5</td>\n",
              "      <td>0</td>\n",
              "      <td>1</td>\n",
              "      <td>...</td>\n",
              "      <td>0</td>\n",
              "      <td>0</td>\n",
              "      <td>0</td>\n",
              "      <td>0</td>\n",
              "      <td>0</td>\n",
              "      <td>0</td>\n",
              "      <td>0</td>\n",
              "      <td>0</td>\n",
              "      <td>0</td>\n",
              "      <td>0</td>\n",
              "    </tr>\n",
              "    <tr>\n",
              "      <th>1</th>\n",
              "      <td>1111</td>\n",
              "      <td>0</td>\n",
              "      <td>1</td>\n",
              "      <td>1</td>\n",
              "      <td>1</td>\n",
              "      <td>4</td>\n",
              "      <td>0</td>\n",
              "      <td>5</td>\n",
              "      <td>0</td>\n",
              "      <td>1</td>\n",
              "      <td>...</td>\n",
              "      <td>0</td>\n",
              "      <td>0</td>\n",
              "      <td>0</td>\n",
              "      <td>0</td>\n",
              "      <td>0</td>\n",
              "      <td>0</td>\n",
              "      <td>0</td>\n",
              "      <td>0</td>\n",
              "      <td>0</td>\n",
              "      <td>0</td>\n",
              "    </tr>\n",
              "    <tr>\n",
              "      <th>2</th>\n",
              "      <td>2222</td>\n",
              "      <td>0</td>\n",
              "      <td>0</td>\n",
              "      <td>3</td>\n",
              "      <td>0</td>\n",
              "      <td>0</td>\n",
              "      <td>1</td>\n",
              "      <td>5</td>\n",
              "      <td>0</td>\n",
              "      <td>1</td>\n",
              "      <td>...</td>\n",
              "      <td>1</td>\n",
              "      <td>0</td>\n",
              "      <td>0</td>\n",
              "      <td>0</td>\n",
              "      <td>0</td>\n",
              "      <td>0</td>\n",
              "      <td>0</td>\n",
              "      <td>0</td>\n",
              "      <td>0</td>\n",
              "      <td>2</td>\n",
              "    </tr>\n",
              "    <tr>\n",
              "      <th>3</th>\n",
              "      <td>2758</td>\n",
              "      <td>0</td>\n",
              "      <td>0</td>\n",
              "      <td>2</td>\n",
              "      <td>1</td>\n",
              "      <td>0</td>\n",
              "      <td>3</td>\n",
              "      <td>5</td>\n",
              "      <td>0</td>\n",
              "      <td>1</td>\n",
              "      <td>...</td>\n",
              "      <td>0</td>\n",
              "      <td>0</td>\n",
              "      <td>0</td>\n",
              "      <td>0</td>\n",
              "      <td>0</td>\n",
              "      <td>0</td>\n",
              "      <td>0</td>\n",
              "      <td>0</td>\n",
              "      <td>0</td>\n",
              "      <td>1</td>\n",
              "    </tr>\n",
              "    <tr>\n",
              "      <th>4</th>\n",
              "      <td>2869</td>\n",
              "      <td>0</td>\n",
              "      <td>0</td>\n",
              "      <td>2</td>\n",
              "      <td>1</td>\n",
              "      <td>0</td>\n",
              "      <td>3</td>\n",
              "      <td>5</td>\n",
              "      <td>0</td>\n",
              "      <td>1</td>\n",
              "      <td>...</td>\n",
              "      <td>0</td>\n",
              "      <td>0</td>\n",
              "      <td>0</td>\n",
              "      <td>0</td>\n",
              "      <td>0</td>\n",
              "      <td>0</td>\n",
              "      <td>0</td>\n",
              "      <td>0</td>\n",
              "      <td>0</td>\n",
              "      <td>1</td>\n",
              "    </tr>\n",
              "  </tbody>\n",
              "</table>\n",
              "<p>5 rows × 69 columns</p>\n",
              "</div>\n",
              "      <button class=\"colab-df-convert\" onclick=\"convertToInteractive('df-83980e80-28c6-4279-b942-a752364d6297')\"\n",
              "              title=\"Convert this dataframe to an interactive table.\"\n",
              "              style=\"display:none;\">\n",
              "        \n",
              "  <svg xmlns=\"http://www.w3.org/2000/svg\" height=\"24px\"viewBox=\"0 0 24 24\"\n",
              "       width=\"24px\">\n",
              "    <path d=\"M0 0h24v24H0V0z\" fill=\"none\"/>\n",
              "    <path d=\"M18.56 5.44l.94 2.06.94-2.06 2.06-.94-2.06-.94-.94-2.06-.94 2.06-2.06.94zm-11 1L8.5 8.5l.94-2.06 2.06-.94-2.06-.94L8.5 2.5l-.94 2.06-2.06.94zm10 10l.94 2.06.94-2.06 2.06-.94-2.06-.94-.94-2.06-.94 2.06-2.06.94z\"/><path d=\"M17.41 7.96l-1.37-1.37c-.4-.4-.92-.59-1.43-.59-.52 0-1.04.2-1.43.59L10.3 9.45l-7.72 7.72c-.78.78-.78 2.05 0 2.83L4 21.41c.39.39.9.59 1.41.59.51 0 1.02-.2 1.41-.59l7.78-7.78 2.81-2.81c.8-.78.8-2.07 0-2.86zM5.41 20L4 18.59l7.72-7.72 1.47 1.35L5.41 20z\"/>\n",
              "  </svg>\n",
              "      </button>\n",
              "      \n",
              "  <style>\n",
              "    .colab-df-container {\n",
              "      display:flex;\n",
              "      flex-wrap:wrap;\n",
              "      gap: 12px;\n",
              "    }\n",
              "\n",
              "    .colab-df-convert {\n",
              "      background-color: #E8F0FE;\n",
              "      border: none;\n",
              "      border-radius: 50%;\n",
              "      cursor: pointer;\n",
              "      display: none;\n",
              "      fill: #1967D2;\n",
              "      height: 32px;\n",
              "      padding: 0 0 0 0;\n",
              "      width: 32px;\n",
              "    }\n",
              "\n",
              "    .colab-df-convert:hover {\n",
              "      background-color: #E2EBFA;\n",
              "      box-shadow: 0px 1px 2px rgba(60, 64, 67, 0.3), 0px 1px 3px 1px rgba(60, 64, 67, 0.15);\n",
              "      fill: #174EA6;\n",
              "    }\n",
              "\n",
              "    [theme=dark] .colab-df-convert {\n",
              "      background-color: #3B4455;\n",
              "      fill: #D2E3FC;\n",
              "    }\n",
              "\n",
              "    [theme=dark] .colab-df-convert:hover {\n",
              "      background-color: #434B5C;\n",
              "      box-shadow: 0px 1px 3px 1px rgba(0, 0, 0, 0.15);\n",
              "      filter: drop-shadow(0px 1px 2px rgba(0, 0, 0, 0.3));\n",
              "      fill: #FFFFFF;\n",
              "    }\n",
              "  </style>\n",
              "\n",
              "      <script>\n",
              "        const buttonEl =\n",
              "          document.querySelector('#df-83980e80-28c6-4279-b942-a752364d6297 button.colab-df-convert');\n",
              "        buttonEl.style.display =\n",
              "          google.colab.kernel.accessAllowed ? 'block' : 'none';\n",
              "\n",
              "        async function convertToInteractive(key) {\n",
              "          const element = document.querySelector('#df-83980e80-28c6-4279-b942-a752364d6297');\n",
              "          const dataTable =\n",
              "            await google.colab.kernel.invokeFunction('convertToInteractive',\n",
              "                                                     [key], {});\n",
              "          if (!dataTable) return;\n",
              "\n",
              "          const docLinkHtml = 'Like what you see? Visit the ' +\n",
              "            '<a target=\"_blank\" href=https://colab.research.google.com/notebooks/data_table.ipynb>data table notebook</a>'\n",
              "            + ' to learn more about interactive tables.';\n",
              "          element.innerHTML = '';\n",
              "          dataTable['output_type'] = 'display_data';\n",
              "          await google.colab.output.renderOutput(dataTable, element);\n",
              "          const docLink = document.createElement('div');\n",
              "          docLink.innerHTML = docLinkHtml;\n",
              "          element.appendChild(docLink);\n",
              "        }\n",
              "      </script>\n",
              "    </div>\n",
              "  </div>\n",
              "  "
            ]
          },
          "metadata": {},
          "execution_count": 103
        }
      ],
      "source": [
        "# Creating a new dataframe to hold all the transformed variables\n",
        "transformed_dataframe = pd.concat([pd.DataFrame(main_dataset), pd.DataFrame(numerical_data_frame, columns=['Dexa_Freq_During_Rx','Count_Of_Risks'])], axis=1)\n",
        "\n",
        "# Vizualizing the new dataframe after transformation\n",
        "transformed_dataframe.head()"
      ]
    },
    {
      "cell_type": "code",
      "execution_count": null,
      "id": "b78765db",
      "metadata": {
        "id": "b78765db"
      },
      "outputs": [],
      "source": []
    }
  ],
  "metadata": {
    "kernelspec": {
      "display_name": "Python 3 (ipykernel)",
      "language": "python",
      "name": "python3"
    },
    "language_info": {
      "codemirror_mode": {
        "name": "ipython",
        "version": 3
      },
      "file_extension": ".py",
      "mimetype": "text/x-python",
      "name": "python",
      "nbconvert_exporter": "python",
      "pygments_lexer": "ipython3",
      "version": "3.9.12"
    },
    "colab": {
      "provenance": []
    }
  },
  "nbformat": 4,
  "nbformat_minor": 5
}